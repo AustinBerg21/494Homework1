{
 "cells": [
  {
   "cell_type": "code",
   "execution_count": 38,
   "id": "cf26bdd8",
   "metadata": {},
   "outputs": [],
   "source": [
    "\n",
    "import numpy as np\n",
    "import scipy as sp"
   ]
  },
  {
   "cell_type": "code",
   "execution_count": 39,
   "id": "00142463",
   "metadata": {},
   "outputs": [],
   "source": [
    "from scipy.optimize import minimize\n",
    "from scipy.optimize import LinearConstraint\n",
    "from scipy.optimize import Bounds\n",
    "from numpy import array"
   ]
  },
  {
   "cell_type": "code",
   "execution_count": 40,
   "id": "af9bfc69",
   "metadata": {},
   "outputs": [],
   "source": [
    "# Function\n",
    "def f(x):\n",
    "    x1 = x[0]\n",
    "    x2 = x[1]\n",
    "    x3 = x[2]\n",
    "    x4 = x[3]\n",
    "    x5 = x[4]\n",
    "    return (x1-x2)**2+(x2+x3-2)**2+(x4-1)**2+(x5-1)**2\n",
    "# Initial Guess\n",
    "x0 = [0,1,1,1,1]\n",
    "# List Constraints\n",
    "cons = ({'type':'eq','fun': lambda x: x[0] + 3*x[1]},\n",
    "         {'type':'eq','fun': lambda x: x[2] + x[3] - 2*x[4]},\n",
    "         {'type':'eq','fun': lambda x: x[1] - x[4]})\n",
    "# List Bounds\n",
    "bounds = Bounds([-10,-10,-10,-10,-10], [10,10,10,10,10])"
   ]
  },
  {
   "cell_type": "code",
   "execution_count": 41,
   "id": "cfbb7f88",
   "metadata": {},
   "outputs": [],
   "source": [
    "res=minimize(f,x0, bounds = bounds, constraints = cons)"
   ]
  },
  {
   "cell_type": "code",
   "execution_count": 42,
   "id": "c963fc20",
   "metadata": {},
   "outputs": [
    {
     "name": "stdout",
     "output_type": "stream",
     "text": [
      "     fun: 4.0930232597866745\n",
      "     jac: array([-2.04774296, -0.18376356, -2.23150659, -2.23268616, -1.48806423])\n",
      " message: 'Optimization terminated successfully'\n",
      "    nfev: 38\n",
      "     nit: 6\n",
      "    njev: 6\n",
      "  status: 0\n",
      " success: True\n",
      "       x: array([-0.76741846,  0.25580615,  0.62786657, -0.11625427,  0.25580615])\n"
     ]
    }
   ],
   "source": [
    "print(res)"
   ]
  },
  {
   "cell_type": "code",
   "execution_count": 43,
   "id": "fb33569c",
   "metadata": {},
   "outputs": [],
   "source": [
    "x1 = [-1,0,1,0,0]"
   ]
  },
  {
   "cell_type": "code",
   "execution_count": 44,
   "id": "a643c483",
   "metadata": {},
   "outputs": [],
   "source": [
    "res2=minimize(f,x1, bounds = bounds, constraints = cons)"
   ]
  },
  {
   "cell_type": "code",
   "execution_count": 45,
   "id": "95f99e9a",
   "metadata": {},
   "outputs": [
    {
     "name": "stdout",
     "output_type": "stream",
     "text": [
      "     fun: 4.0930232576789916\n",
      "     jac: array([-2.04657733, -0.18598503, -2.2325623 , -2.23250467, -1.4883557 ])\n",
      " message: 'Optimization terminated successfully'\n",
      "    nfev: 42\n",
      "     nit: 7\n",
      "    njev: 7\n",
      "  status: 0\n",
      " success: True\n",
      "       x: array([-0.76746649,  0.25582216,  0.62789667, -0.11625234,  0.25582216])\n"
     ]
    }
   ],
   "source": [
    "print(res2)"
   ]
  },
  {
   "cell_type": "code",
   "execution_count": null,
   "id": "adb88249",
   "metadata": {},
   "outputs": [],
   "source": []
  }
 ],
 "metadata": {
  "kernelspec": {
   "display_name": "Python 3 (ipykernel)",
   "language": "python",
   "name": "python3"
  },
  "language_info": {
   "codemirror_mode": {
    "name": "ipython",
    "version": 3
   },
   "file_extension": ".py",
   "mimetype": "text/x-python",
   "name": "python",
   "nbconvert_exporter": "python",
   "pygments_lexer": "ipython3",
   "version": "3.9.12"
  }
 },
 "nbformat": 4,
 "nbformat_minor": 5
}
